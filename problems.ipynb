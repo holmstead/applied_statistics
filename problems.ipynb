{
 "cells": [
  {
   "cell_type": "markdown",
   "id": "7cf355b0",
   "metadata": {},
   "source": [
    "# Applied Statistics"
   ]
  },
  {
   "cell_type": "code",
   "execution_count": 36,
   "id": "1a08cbb5",
   "metadata": {},
   "outputs": [],
   "source": [
    "# Import required libraries\n",
    "\n",
    "# https://numpy.org/doc/stable/\n",
    "import numpy as np\n",
    "\n",
    "# https://matplotlib.org/\n",
    "import matplotlib.pyplot as plt\n",
    "plt.style.use('ggplot')  # Use ggplot style\n",
    "\n",
    "import math\n",
    "import itertools\n",
    "import random"
   ]
  },
  {
   "cell_type": "markdown",
   "id": "2f79e20a",
   "metadata": {},
   "source": [
    "## Problem 1: Extending the Lady Tasting Tea\n",
    "\n",
    "Let's extend the Lady Tasting Tea experiment as follows. The original experiment has 8 cups: 4 tea-first and 4 milk-first. Suppose we prepare 12 cups: 8 tea-first and 4 milk-first. A participant claims they can tell which was poured first.\n",
    "\n",
    "Simulate this experiment using `numpy` by randomly shuffling the cups many times and calculating the probability of the participant correctly identifying all cups by chance. Compare your result with the original 8-cup experiment.\n",
    "\n",
    "In your notebook, explain your simulation process clearly, report and interpret the estimated probability, and discuss whether, based on this probability, you would consider extending or relaxing the p-value threshold compared to the original design."
   ]
  },
  {
   "cell_type": "markdown",
   "id": "ea41e71c",
   "metadata": {},
   "source": [
    "[Lady Tasting tea experiment - Numberphile](https://www.youtube.com/watch?v=8ERFV7rV0vg)\n",
    "\n",
    "[Lady Tasting tea experiment - Rob Sinn](https://www.youtube.com/watch?v=kR1qeXDwCSc) \n",
    "\n",
    "[Ronald Fisher](https://en.wikipedia.org/wiki/Ronald_Fisher) came up with the [null hypothesisis?](https://www.geeksforgeeks.org/maths/null-hypothesis/) \n",
    "\n",
    "Statistical analysis of A/B tests.\n",
    "\n",
    "We can shuffle using numpy `shuffle` function ([see official documentation](https://numpy.org/doc/stable/reference/random/generated/numpy.random.shuffle.html))."
   ]
  },
  {
   "cell_type": "code",
   "execution_count": 9,
   "id": "d3cc6725",
   "metadata": {},
   "outputs": [
    {
     "data": {
      "text/plain": [
       "array([ 2,  4,  5,  3,  9,  6,  8,  0, 11,  7,  1, 10])"
      ]
     },
     "execution_count": 9,
     "metadata": {},
     "output_type": "execute_result"
    }
   ],
   "source": [
    "# Create a numpy array using values from 1 to 12\n",
    "array = np.arange(12)\n",
    "\n",
    "# Shuffle the array\n",
    "np.random.shuffle(array)\n",
    "\n",
    "# Print the array\n",
    "array"
   ]
  },
  {
   "cell_type": "code",
   "execution_count": 10,
   "id": "594c083e",
   "metadata": {},
   "outputs": [
    {
     "data": {
      "text/plain": [
       "<BarContainer object of 12 artists>"
      ]
     },
     "execution_count": 10,
     "metadata": {},
     "output_type": "execute_result"
    },
    {
     "data": {
      "image/png": "[encoded data removed]",
      "text/plain": [
       "<Figure size 640x480 with 1 Axes>"
      ]
     },
     "metadata": {},
     "output_type": "display_data"
    }
   ],
   "source": [
    "# Create a bar plot of the array\n",
    "plt.bar(range(len(array)), array)"
   ]
  },
  {
   "cell_type": "code",
   "execution_count": 11,
   "id": "517325ed",
   "metadata": {},
   "outputs": [
    {
     "data": {
      "text/plain": [
       "<matplotlib.collections.PathCollection at 0x7fa170243b80>"
      ]
     },
     "execution_count": 11,
     "metadata": {},
     "output_type": "execute_result"
    },
    {
     "data": {
      "image/png": "[encoded data removed]",
      "text/plain": [
       "<Figure size 640x480 with 1 Axes>"
      ]
     },
     "metadata": {},
     "output_type": "display_data"
    }
   ],
   "source": [
    "# Create numpy arrays\n",
    "X = np.arange(12)\n",
    "y = np.arange(12)\n",
    "\n",
    "# Shuffle the arrays\n",
    "np.random.shuffle(X)\n",
    "np.random.shuffle(y)\n",
    "\n",
    "# Create scatter plot \n",
    "plt.scatter(X, y)"
   ]
  },
  {
   "cell_type": "code",
   "execution_count": 12,
   "id": "2b2144d7",
   "metadata": {},
   "outputs": [
    {
     "data": {
      "text/plain": [
       "<matplotlib.collections.PathCollection at 0x7fa170150c10>"
      ]
     },
     "execution_count": 12,
     "metadata": {},
     "output_type": "execute_result"
    },
    {
     "data": {
      "image/png": "[encoded data removed]",
      "text/plain": [
       "<Figure size 640x480 with 1 Axes>"
      ]
     },
     "metadata": {},
     "output_type": "display_data"
    }
   ],
   "source": [
    "# Create random arrays of values from 1 to 12\n",
    "X = np.random.choice(np.arange(1, 13), size=12, replace=True)\n",
    "y = np.random.choice(np.arange(1, 13), size=12, replace=True)\n",
    "\n",
    "# Create scatter plot \n",
    "plt.scatter(X, y)"
   ]
  },
  {
   "cell_type": "markdown",
   "id": "8ba9cd7b",
   "metadata": {},
   "source": [
    "[Generator shuffle](https://numpy.org/doc/stable/reference/random/generated/numpy.random.Generator.shuffle.html#numpy.random.Generator.shuffle)"
   ]
  },
  {
   "cell_type": "markdown",
   "id": "c82e653b",
   "metadata": {},
   "source": [
    "p-value described [here](https://www.geeksforgeeks.org/machine-learning/p-value/)\n",
    "\n",
    "`In general, a small p-value indicates that the observed data is unlikely to have occurred by random chance alone, which leads to the rejection of the null hypothesis.`"
   ]
  },
  {
   "cell_type": "code",
   "execution_count": 13,
   "id": "7880052a",
   "metadata": {},
   "outputs": [],
   "source": [
    "# Define the number of cups\n",
    "num_cups = 12\n",
    "\n",
    "# Define the number of cups with milk first\n",
    "num_cups_milk_first = 4\n",
    "\n",
    "# Define the number of cups with tea first\n",
    "num_cups_tea_first = 8"
   ]
  },
  {
   "cell_type": "markdown",
   "id": "4d345cfb",
   "metadata": {},
   "source": [
    "We can make an array so numpy can shuffle it."
   ]
  },
  {
   "cell_type": "code",
   "execution_count": 14,
   "id": "477c334a",
   "metadata": {},
   "outputs": [
    {
     "data": {
      "text/plain": [
       "['milk first',\n",
       " 'milk first',\n",
       " 'milk first',\n",
       " 'milk first',\n",
       " 'tea first',\n",
       " 'tea first',\n",
       " 'tea first',\n",
       " 'tea first',\n",
       " 'tea first',\n",
       " 'tea first',\n",
       " 'tea first',\n",
       " 'tea first']"
      ]
     },
     "execution_count": 14,
     "metadata": {},
     "output_type": "execute_result"
    }
   ],
   "source": [
    "# Create and array\n",
    "cups = ['milk first'] * num_cups_milk_first + ['tea first'] * num_cups_tea_first\n",
    "\n",
    "# print the array\n",
    "cups"
   ]
  },
  {
   "cell_type": "code",
   "execution_count": 15,
   "id": "166273fc",
   "metadata": {},
   "outputs": [
    {
     "data": {
      "text/plain": [
       "['tea first',\n",
       " 'tea first',\n",
       " 'tea first',\n",
       " 'tea first',\n",
       " 'tea first',\n",
       " 'tea first',\n",
       " 'milk first',\n",
       " 'tea first',\n",
       " 'tea first',\n",
       " 'milk first',\n",
       " 'milk first',\n",
       " 'milk first']"
      ]
     },
     "execution_count": 15,
     "metadata": {},
     "output_type": "execute_result"
    }
   ],
   "source": [
    "# Shuffle the arrays\n",
    "np.random.shuffle(cups)\n",
    "\n",
    "# Print the array\n",
    "cups"
   ]
  },
  {
   "cell_type": "markdown",
   "id": "ce3b9cb9",
   "metadata": {},
   "source": [
    "These labels arent sufficient though as we cant tell the diff between a 'milk first' and a different 'milk first'. Use numbers instead 1-12"
   ]
  },
  {
   "cell_type": "code",
   "execution_count": 16,
   "id": "2b6dbcff",
   "metadata": {},
   "outputs": [],
   "source": [
    "cups = [1, 2, 3, 4, 5, 6, 7, 8, 9, 10, 11, 12]"
   ]
  },
  {
   "cell_type": "markdown",
   "id": "97d50e45",
   "metadata": {},
   "source": [
    "https://lisds.github.io/textbook/wild-pandas/fishers_tea.html"
   ]
  },
  {
   "cell_type": "markdown",
   "id": "080d4f74",
   "metadata": {},
   "source": [
    "We will select 4 cups from the 12.\n",
    "\n",
    "If there are 12 cups of tea, how many different ways are there of selecting 4 cups from them? \"binomial coefficient? use `math.comb()`\n",
    "\n",
    "https://www.geeksforgeeks.org/maths/n-choose-k-formula/\n",
    "\n",
    "`Combination is described as the process of choosing one, two, or a few elements from a given sequence, independent of the order in which they appear.`\n",
    "\n",
    "So Order doesnt matter\n",
    "\n",
    "But you cant pick the same cup more than once in this experiment.\n"
   ]
  },
  {
   "cell_type": "markdown",
   "id": "88efb6e3",
   "metadata": {},
   "source": [
    "So if we have 1 2 3 4 5 6 7 8 9 10 11 12 \n",
    "\n",
    "and pick four for example like this 2 5 7 8, its the same as 5 7 2 8 as order doesn't matter\n",
    "\n",
    "but if we select one, then there is 11 other cups to choose from then, not 12 anymore."
   ]
  },
  {
   "cell_type": "markdown",
   "id": "838ebcf3",
   "metadata": {},
   "source": [
    "$ C(n, k) = \\frac{n!}{k!(n-k)!} $\n",
    " \n",
    "- n! is the factorial of n.\n",
    "- k! is the factorial of k.\n",
    "\n",
    "\n",
    "Putting that into Python code:"
   ]
  },
  {
   "cell_type": "code",
   "execution_count": 17,
   "id": "cb9791e8",
   "metadata": {},
   "outputs": [
    {
     "data": {
      "text/plain": [
       "495"
      ]
     },
     "execution_count": 17,
     "metadata": {},
     "output_type": "execute_result"
    }
   ],
   "source": [
    "# Pick some xxample values\n",
    "n = 12  # Total number of elements\n",
    "k = 4   # Number of elements to choose\n",
    "\n",
    "# Calculate the number of ways of selecting k objects from n without replacement and without order\n",
    "result = math.factorial(n) // (math.factorial(k) * math.factorial(n - k))\n",
    "\n",
    "# Display result\n",
    "result"
   ]
  },
  {
   "cell_type": "code",
   "execution_count": 18,
   "id": "85bf2868",
   "metadata": {},
   "outputs": [
    {
     "data": {
      "text/plain": [
       "495"
      ]
     },
     "execution_count": 18,
     "metadata": {},
     "output_type": "execute_result"
    }
   ],
   "source": [
    "# Calculate the number of ways of selecting k objects from n without replacement and without order\n",
    "result = math.factorial(n) // (math.factorial(num_cups_milk_first) * math.factorial(num_cups- num_cups_milk_first))\n",
    "\n",
    "# Display result\n",
    "result"
   ]
  },
  {
   "cell_type": "markdown",
   "id": "3842dfa5",
   "metadata": {},
   "source": [
    "We can use the [math](https://docs.python.org/3/library/math.html) lirary, specifically the [comb](https://docs.python.org/3/library/math.html#math.comb) function to do this for us."
   ]
  },
  {
   "cell_type": "code",
   "execution_count": 19,
   "id": "9d2201ef",
   "metadata": {},
   "outputs": [
    {
     "name": "stdout",
     "output_type": "stream",
     "text": [
      "The number of ways to choose 4 elements from 12 is: 495\n"
     ]
    }
   ],
   "source": [
    "# Calculate combinations using math.comb\n",
    "result = math.comb(n, k)\n",
    "\n",
    "# Print result\n",
    "print(f\"The number of ways to choose {k} elements from {n} is: {result}\")"
   ]
  },
  {
   "cell_type": "markdown",
   "id": "30cf8d5b",
   "metadata": {},
   "source": [
    "[Itertools](https://docs.python.org/3/library/itertools.html) has a function called [combinations](https://docs.python.org/3/library/itertools.html#itertools.combinations). It uses `math.comb()` under the hood.\n",
    "\n",
    "- https://www.geeksforgeeks.org/python/python-itertools-combinations-function/\n",
    "\n",
    "```\n",
    "itertools.combinations(iterable, r)\n",
    "Return r length subsequences of elements from the input iterable.\n",
    "```"
   ]
  },
  {
   "cell_type": "code",
   "execution_count": 20,
   "id": "bae2907d",
   "metadata": {},
   "outputs": [
    {
     "name": "stdout",
     "output_type": "stream",
     "text": [
      "[('1', '2'), ('1', '3'), ('2', '3')]\n"
     ]
    }
   ],
   "source": [
    "# Simple example of 3 elements, return all possible unordered pairs of elements\n",
    "example = list(itertools.combinations(\"123\", 2))\n",
    "\n",
    "print(example)"
   ]
  },
  {
   "cell_type": "markdown",
   "id": "cb31baa0",
   "metadata": {},
   "source": [
    "Now to use 12 cups, where we select 4\n",
    "\n",
    "`Cups` is the iterable, `num_cups_milk_first` is the number of subsequences to be selected from the iterable."
   ]
  },
  {
   "cell_type": "code",
   "execution_count": 21,
   "id": "b08de70e",
   "metadata": {},
   "outputs": [
    {
     "data": {
      "text/plain": [
       "[(1, 2, 3, 4),\n",
       " (1, 2, 3, 5),\n",
       " (1, 2, 3, 6),\n",
       " (1, 2, 3, 7),\n",
       " (1, 2, 3, 8),\n",
       " (1, 2, 3, 9),\n",
       " (1, 2, 3, 10),\n",
       " (1, 2, 3, 11),\n",
       " (1, 2, 3, 12),\n",
       " (1, 2, 4, 5),\n",
       " (1, 2, 4, 6),\n",
       " (1, 2, 4, 7),\n",
       " (1, 2, 4, 8),\n",
       " (1, 2, 4, 9),\n",
       " (1, 2, 4, 10),\n",
       " (1, 2, 4, 11),\n",
       " (1, 2, 4, 12),\n",
       " (1, 2, 5, 6),\n",
       " (1, 2, 5, 7),\n",
       " (1, 2, 5, 8),\n",
       " (1, 2, 5, 9),\n",
       " (1, 2, 5, 10),\n",
       " (1, 2, 5, 11),\n",
       " (1, 2, 5, 12),\n",
       " (1, 2, 6, 7),\n",
       " (1, 2, 6, 8),\n",
       " (1, 2, 6, 9),\n",
       " (1, 2, 6, 10),\n",
       " (1, 2, 6, 11),\n",
       " (1, 2, 6, 12),\n",
       " (1, 2, 7, 8),\n",
       " (1, 2, 7, 9),\n",
       " (1, 2, 7, 10),\n",
       " (1, 2, 7, 11),\n",
       " (1, 2, 7, 12),\n",
       " (1, 2, 8, 9),\n",
       " (1, 2, 8, 10),\n",
       " (1, 2, 8, 11),\n",
       " (1, 2, 8, 12),\n",
       " (1, 2, 9, 10),\n",
       " (1, 2, 9, 11),\n",
       " (1, 2, 9, 12),\n",
       " (1, 2, 10, 11),\n",
       " (1, 2, 10, 12),\n",
       " (1, 2, 11, 12),\n",
       " (1, 3, 4, 5),\n",
       " (1, 3, 4, 6),\n",
       " (1, 3, 4, 7),\n",
       " (1, 3, 4, 8),\n",
       " (1, 3, 4, 9),\n",
       " (1, 3, 4, 10),\n",
       " (1, 3, 4, 11),\n",
       " (1, 3, 4, 12),\n",
       " (1, 3, 5, 6),\n",
       " (1, 3, 5, 7),\n",
       " (1, 3, 5, 8),\n",
       " (1, 3, 5, 9),\n",
       " (1, 3, 5, 10),\n",
       " (1, 3, 5, 11),\n",
       " (1, 3, 5, 12),\n",
       " (1, 3, 6, 7),\n",
       " (1, 3, 6, 8),\n",
       " (1, 3, 6, 9),\n",
       " (1, 3, 6, 10),\n",
       " (1, 3, 6, 11),\n",
       " (1, 3, 6, 12),\n",
       " (1, 3, 7, 8),\n",
       " (1, 3, 7, 9),\n",
       " (1, 3, 7, 10),\n",
       " (1, 3, 7, 11),\n",
       " (1, 3, 7, 12),\n",
       " (1, 3, 8, 9),\n",
       " (1, 3, 8, 10),\n",
       " (1, 3, 8, 11),\n",
       " (1, 3, 8, 12),\n",
       " (1, 3, 9, 10),\n",
       " (1, 3, 9, 11),\n",
       " (1, 3, 9, 12),\n",
       " (1, 3, 10, 11),\n",
       " (1, 3, 10, 12),\n",
       " (1, 3, 11, 12),\n",
       " (1, 4, 5, 6),\n",
       " (1, 4, 5, 7),\n",
       " (1, 4, 5, 8),\n",
       " (1, 4, 5, 9),\n",
       " (1, 4, 5, 10),\n",
       " (1, 4, 5, 11),\n",
       " (1, 4, 5, 12),\n",
       " (1, 4, 6, 7),\n",
       " (1, 4, 6, 8),\n",
       " (1, 4, 6, 9),\n",
       " (1, 4, 6, 10),\n",
       " (1, 4, 6, 11),\n",
       " (1, 4, 6, 12),\n",
       " (1, 4, 7, 8),\n",
       " (1, 4, 7, 9),\n",
       " (1, 4, 7, 10),\n",
       " (1, 4, 7, 11),\n",
       " (1, 4, 7, 12),\n",
       " (1, 4, 8, 9),\n",
       " (1, 4, 8, 10),\n",
       " (1, 4, 8, 11),\n",
       " (1, 4, 8, 12),\n",
       " (1, 4, 9, 10),\n",
       " (1, 4, 9, 11),\n",
       " (1, 4, 9, 12),\n",
       " (1, 4, 10, 11),\n",
       " (1, 4, 10, 12),\n",
       " (1, 4, 11, 12),\n",
       " (1, 5, 6, 7),\n",
       " (1, 5, 6, 8),\n",
       " (1, 5, 6, 9),\n",
       " (1, 5, 6, 10),\n",
       " (1, 5, 6, 11),\n",
       " (1, 5, 6, 12),\n",
       " (1, 5, 7, 8),\n",
       " (1, 5, 7, 9),\n",
       " (1, 5, 7, 10),\n",
       " (1, 5, 7, 11),\n",
       " (1, 5, 7, 12),\n",
       " (1, 5, 8, 9),\n",
       " (1, 5, 8, 10),\n",
       " (1, 5, 8, 11),\n",
       " (1, 5, 8, 12),\n",
       " (1, 5, 9, 10),\n",
       " (1, 5, 9, 11),\n",
       " (1, 5, 9, 12),\n",
       " (1, 5, 10, 11),\n",
       " (1, 5, 10, 12),\n",
       " (1, 5, 11, 12),\n",
       " (1, 6, 7, 8),\n",
       " (1, 6, 7, 9),\n",
       " (1, 6, 7, 10),\n",
       " (1, 6, 7, 11),\n",
       " (1, 6, 7, 12),\n",
       " (1, 6, 8, 9),\n",
       " (1, 6, 8, 10),\n",
       " (1, 6, 8, 11),\n",
       " (1, 6, 8, 12),\n",
       " (1, 6, 9, 10),\n",
       " (1, 6, 9, 11),\n",
       " (1, 6, 9, 12),\n",
       " (1, 6, 10, 11),\n",
       " (1, 6, 10, 12),\n",
       " (1, 6, 11, 12),\n",
       " (1, 7, 8, 9),\n",
       " (1, 7, 8, 10),\n",
       " (1, 7, 8, 11),\n",
       " (1, 7, 8, 12),\n",
       " (1, 7, 9, 10),\n",
       " (1, 7, 9, 11),\n",
       " (1, 7, 9, 12),\n",
       " (1, 7, 10, 11),\n",
       " (1, 7, 10, 12),\n",
       " (1, 7, 11, 12),\n",
       " (1, 8, 9, 10),\n",
       " (1, 8, 9, 11),\n",
       " (1, 8, 9, 12),\n",
       " (1, 8, 10, 11),\n",
       " (1, 8, 10, 12),\n",
       " (1, 8, 11, 12),\n",
       " (1, 9, 10, 11),\n",
       " (1, 9, 10, 12),\n",
       " (1, 9, 11, 12),\n",
       " (1, 10, 11, 12),\n",
       " (2, 3, 4, 5),\n",
       " (2, 3, 4, 6),\n",
       " (2, 3, 4, 7),\n",
       " (2, 3, 4, 8),\n",
       " (2, 3, 4, 9),\n",
       " (2, 3, 4, 10),\n",
       " (2, 3, 4, 11),\n",
       " (2, 3, 4, 12),\n",
       " (2, 3, 5, 6),\n",
       " (2, 3, 5, 7),\n",
       " (2, 3, 5, 8),\n",
       " (2, 3, 5, 9),\n",
       " (2, 3, 5, 10),\n",
       " (2, 3, 5, 11),\n",
       " (2, 3, 5, 12),\n",
       " (2, 3, 6, 7),\n",
       " (2, 3, 6, 8),\n",
       " (2, 3, 6, 9),\n",
       " (2, 3, 6, 10),\n",
       " (2, 3, 6, 11),\n",
       " (2, 3, 6, 12),\n",
       " (2, 3, 7, 8),\n",
       " (2, 3, 7, 9),\n",
       " (2, 3, 7, 10),\n",
       " (2, 3, 7, 11),\n",
       " (2, 3, 7, 12),\n",
       " (2, 3, 8, 9),\n",
       " (2, 3, 8, 10),\n",
       " (2, 3, 8, 11),\n",
       " (2, 3, 8, 12),\n",
       " (2, 3, 9, 10),\n",
       " (2, 3, 9, 11),\n",
       " (2, 3, 9, 12),\n",
       " (2, 3, 10, 11),\n",
       " (2, 3, 10, 12),\n",
       " (2, 3, 11, 12),\n",
       " (2, 4, 5, 6),\n",
       " (2, 4, 5, 7),\n",
       " (2, 4, 5, 8),\n",
       " (2, 4, 5, 9),\n",
       " (2, 4, 5, 10),\n",
       " (2, 4, 5, 11),\n",
       " (2, 4, 5, 12),\n",
       " (2, 4, 6, 7),\n",
       " (2, 4, 6, 8),\n",
       " (2, 4, 6, 9),\n",
       " (2, 4, 6, 10),\n",
       " (2, 4, 6, 11),\n",
       " (2, 4, 6, 12),\n",
       " (2, 4, 7, 8),\n",
       " (2, 4, 7, 9),\n",
       " (2, 4, 7, 10),\n",
       " (2, 4, 7, 11),\n",
       " (2, 4, 7, 12),\n",
       " (2, 4, 8, 9),\n",
       " (2, 4, 8, 10),\n",
       " (2, 4, 8, 11),\n",
       " (2, 4, 8, 12),\n",
       " (2, 4, 9, 10),\n",
       " (2, 4, 9, 11),\n",
       " (2, 4, 9, 12),\n",
       " (2, 4, 10, 11),\n",
       " (2, 4, 10, 12),\n",
       " (2, 4, 11, 12),\n",
       " (2, 5, 6, 7),\n",
       " (2, 5, 6, 8),\n",
       " (2, 5, 6, 9),\n",
       " (2, 5, 6, 10),\n",
       " (2, 5, 6, 11),\n",
       " (2, 5, 6, 12),\n",
       " (2, 5, 7, 8),\n",
       " (2, 5, 7, 9),\n",
       " (2, 5, 7, 10),\n",
       " (2, 5, 7, 11),\n",
       " (2, 5, 7, 12),\n",
       " (2, 5, 8, 9),\n",
       " (2, 5, 8, 10),\n",
       " (2, 5, 8, 11),\n",
       " (2, 5, 8, 12),\n",
       " (2, 5, 9, 10),\n",
       " (2, 5, 9, 11),\n",
       " (2, 5, 9, 12),\n",
       " (2, 5, 10, 11),\n",
       " (2, 5, 10, 12),\n",
       " (2, 5, 11, 12),\n",
       " (2, 6, 7, 8),\n",
       " (2, 6, 7, 9),\n",
       " (2, 6, 7, 10),\n",
       " (2, 6, 7, 11),\n",
       " (2, 6, 7, 12),\n",
       " (2, 6, 8, 9),\n",
       " (2, 6, 8, 10),\n",
       " (2, 6, 8, 11),\n",
       " (2, 6, 8, 12),\n",
       " (2, 6, 9, 10),\n",
       " (2, 6, 9, 11),\n",
       " (2, 6, 9, 12),\n",
       " (2, 6, 10, 11),\n",
       " (2, 6, 10, 12),\n",
       " (2, 6, 11, 12),\n",
       " (2, 7, 8, 9),\n",
       " (2, 7, 8, 10),\n",
       " (2, 7, 8, 11),\n",
       " (2, 7, 8, 12),\n",
       " (2, 7, 9, 10),\n",
       " (2, 7, 9, 11),\n",
       " (2, 7, 9, 12),\n",
       " (2, 7, 10, 11),\n",
       " (2, 7, 10, 12),\n",
       " (2, 7, 11, 12),\n",
       " (2, 8, 9, 10),\n",
       " (2, 8, 9, 11),\n",
       " (2, 8, 9, 12),\n",
       " (2, 8, 10, 11),\n",
       " (2, 8, 10, 12),\n",
       " (2, 8, 11, 12),\n",
       " (2, 9, 10, 11),\n",
       " (2, 9, 10, 12),\n",
       " (2, 9, 11, 12),\n",
       " (2, 10, 11, 12),\n",
       " (3, 4, 5, 6),\n",
       " (3, 4, 5, 7),\n",
       " (3, 4, 5, 8),\n",
       " (3, 4, 5, 9),\n",
       " (3, 4, 5, 10),\n",
       " (3, 4, 5, 11),\n",
       " (3, 4, 5, 12),\n",
       " (3, 4, 6, 7),\n",
       " (3, 4, 6, 8),\n",
       " (3, 4, 6, 9),\n",
       " (3, 4, 6, 10),\n",
       " (3, 4, 6, 11),\n",
       " (3, 4, 6, 12),\n",
       " (3, 4, 7, 8),\n",
       " (3, 4, 7, 9),\n",
       " (3, 4, 7, 10),\n",
       " (3, 4, 7, 11),\n",
       " (3, 4, 7, 12),\n",
       " (3, 4, 8, 9),\n",
       " (3, 4, 8, 10),\n",
       " (3, 4, 8, 11),\n",
       " (3, 4, 8, 12),\n",
       " (3, 4, 9, 10),\n",
       " (3, 4, 9, 11),\n",
       " (3, 4, 9, 12),\n",
       " (3, 4, 10, 11),\n",
       " (3, 4, 10, 12),\n",
       " (3, 4, 11, 12),\n",
       " (3, 5, 6, 7),\n",
       " (3, 5, 6, 8),\n",
       " (3, 5, 6, 9),\n",
       " (3, 5, 6, 10),\n",
       " (3, 5, 6, 11),\n",
       " (3, 5, 6, 12),\n",
       " (3, 5, 7, 8),\n",
       " (3, 5, 7, 9),\n",
       " (3, 5, 7, 10),\n",
       " (3, 5, 7, 11),\n",
       " (3, 5, 7, 12),\n",
       " (3, 5, 8, 9),\n",
       " (3, 5, 8, 10),\n",
       " (3, 5, 8, 11),\n",
       " (3, 5, 8, 12),\n",
       " (3, 5, 9, 10),\n",
       " (3, 5, 9, 11),\n",
       " (3, 5, 9, 12),\n",
       " (3, 5, 10, 11),\n",
       " (3, 5, 10, 12),\n",
       " (3, 5, 11, 12),\n",
       " (3, 6, 7, 8),\n",
       " (3, 6, 7, 9),\n",
       " (3, 6, 7, 10),\n",
       " (3, 6, 7, 11),\n",
       " (3, 6, 7, 12),\n",
       " (3, 6, 8, 9),\n",
       " (3, 6, 8, 10),\n",
       " (3, 6, 8, 11),\n",
       " (3, 6, 8, 12),\n",
       " (3, 6, 9, 10),\n",
       " (3, 6, 9, 11),\n",
       " (3, 6, 9, 12),\n",
       " (3, 6, 10, 11),\n",
       " (3, 6, 10, 12),\n",
       " (3, 6, 11, 12),\n",
       " (3, 7, 8, 9),\n",
       " (3, 7, 8, 10),\n",
       " (3, 7, 8, 11),\n",
       " (3, 7, 8, 12),\n",
       " (3, 7, 9, 10),\n",
       " (3, 7, 9, 11),\n",
       " (3, 7, 9, 12),\n",
       " (3, 7, 10, 11),\n",
       " (3, 7, 10, 12),\n",
       " (3, 7, 11, 12),\n",
       " (3, 8, 9, 10),\n",
       " (3, 8, 9, 11),\n",
       " (3, 8, 9, 12),\n",
       " (3, 8, 10, 11),\n",
       " (3, 8, 10, 12),\n",
       " (3, 8, 11, 12),\n",
       " (3, 9, 10, 11),\n",
       " (3, 9, 10, 12),\n",
       " (3, 9, 11, 12),\n",
       " (3, 10, 11, 12),\n",
       " (4, 5, 6, 7),\n",
       " (4, 5, 6, 8),\n",
       " (4, 5, 6, 9),\n",
       " (4, 5, 6, 10),\n",
       " (4, 5, 6, 11),\n",
       " (4, 5, 6, 12),\n",
       " (4, 5, 7, 8),\n",
       " (4, 5, 7, 9),\n",
       " (4, 5, 7, 10),\n",
       " (4, 5, 7, 11),\n",
       " (4, 5, 7, 12),\n",
       " (4, 5, 8, 9),\n",
       " (4, 5, 8, 10),\n",
       " (4, 5, 8, 11),\n",
       " (4, 5, 8, 12),\n",
       " (4, 5, 9, 10),\n",
       " (4, 5, 9, 11),\n",
       " (4, 5, 9, 12),\n",
       " (4, 5, 10, 11),\n",
       " (4, 5, 10, 12),\n",
       " (4, 5, 11, 12),\n",
       " (4, 6, 7, 8),\n",
       " (4, 6, 7, 9),\n",
       " (4, 6, 7, 10),\n",
       " (4, 6, 7, 11),\n",
       " (4, 6, 7, 12),\n",
       " (4, 6, 8, 9),\n",
       " (4, 6, 8, 10),\n",
       " (4, 6, 8, 11),\n",
       " (4, 6, 8, 12),\n",
       " (4, 6, 9, 10),\n",
       " (4, 6, 9, 11),\n",
       " (4, 6, 9, 12),\n",
       " (4, 6, 10, 11),\n",
       " (4, 6, 10, 12),\n",
       " (4, 6, 11, 12),\n",
       " (4, 7, 8, 9),\n",
       " (4, 7, 8, 10),\n",
       " (4, 7, 8, 11),\n",
       " (4, 7, 8, 12),\n",
       " (4, 7, 9, 10),\n",
       " (4, 7, 9, 11),\n",
       " (4, 7, 9, 12),\n",
       " (4, 7, 10, 11),\n",
       " (4, 7, 10, 12),\n",
       " (4, 7, 11, 12),\n",
       " (4, 8, 9, 10),\n",
       " (4, 8, 9, 11),\n",
       " (4, 8, 9, 12),\n",
       " (4, 8, 10, 11),\n",
       " (4, 8, 10, 12),\n",
       " (4, 8, 11, 12),\n",
       " (4, 9, 10, 11),\n",
       " (4, 9, 10, 12),\n",
       " (4, 9, 11, 12),\n",
       " (4, 10, 11, 12),\n",
       " (5, 6, 7, 8),\n",
       " (5, 6, 7, 9),\n",
       " (5, 6, 7, 10),\n",
       " (5, 6, 7, 11),\n",
       " (5, 6, 7, 12),\n",
       " (5, 6, 8, 9),\n",
       " (5, 6, 8, 10),\n",
       " (5, 6, 8, 11),\n",
       " (5, 6, 8, 12),\n",
       " (5, 6, 9, 10),\n",
       " (5, 6, 9, 11),\n",
       " (5, 6, 9, 12),\n",
       " (5, 6, 10, 11),\n",
       " (5, 6, 10, 12),\n",
       " (5, 6, 11, 12),\n",
       " (5, 7, 8, 9),\n",
       " (5, 7, 8, 10),\n",
       " (5, 7, 8, 11),\n",
       " (5, 7, 8, 12),\n",
       " (5, 7, 9, 10),\n",
       " (5, 7, 9, 11),\n",
       " (5, 7, 9, 12),\n",
       " (5, 7, 10, 11),\n",
       " (5, 7, 10, 12),\n",
       " (5, 7, 11, 12),\n",
       " (5, 8, 9, 10),\n",
       " (5, 8, 9, 11),\n",
       " (5, 8, 9, 12),\n",
       " (5, 8, 10, 11),\n",
       " (5, 8, 10, 12),\n",
       " (5, 8, 11, 12),\n",
       " (5, 9, 10, 11),\n",
       " (5, 9, 10, 12),\n",
       " (5, 9, 11, 12),\n",
       " (5, 10, 11, 12),\n",
       " (6, 7, 8, 9),\n",
       " (6, 7, 8, 10),\n",
       " (6, 7, 8, 11),\n",
       " (6, 7, 8, 12),\n",
       " (6, 7, 9, 10),\n",
       " (6, 7, 9, 11),\n",
       " (6, 7, 9, 12),\n",
       " (6, 7, 10, 11),\n",
       " (6, 7, 10, 12),\n",
       " (6, 7, 11, 12),\n",
       " (6, 8, 9, 10),\n",
       " (6, 8, 9, 11),\n",
       " (6, 8, 9, 12),\n",
       " (6, 8, 10, 11),\n",
       " (6, 8, 10, 12),\n",
       " (6, 8, 11, 12),\n",
       " (6, 9, 10, 11),\n",
       " (6, 9, 10, 12),\n",
       " (6, 9, 11, 12),\n",
       " (6, 10, 11, 12),\n",
       " (7, 8, 9, 10),\n",
       " (7, 8, 9, 11),\n",
       " (7, 8, 9, 12),\n",
       " (7, 8, 10, 11),\n",
       " (7, 8, 10, 12),\n",
       " (7, 8, 11, 12),\n",
       " (7, 9, 10, 11),\n",
       " (7, 9, 10, 12),\n",
       " (7, 9, 11, 12),\n",
       " (7, 10, 11, 12),\n",
       " (8, 9, 10, 11),\n",
       " (8, 9, 10, 12),\n",
       " (8, 9, 11, 12),\n",
       " (8, 10, 11, 12),\n",
       " (9, 10, 11, 12)]"
      ]
     },
     "execution_count": 21,
     "metadata": {},
     "output_type": "execute_result"
    }
   ],
   "source": [
    "# Show the different ways of selecting no_cups_milk_first out of no_cups cups of tea.\n",
    "combinations = list(itertools.combinations(cups, num_cups_milk_first))\n",
    "\n",
    "# Print to console\n",
    "combinations"
   ]
  },
  {
   "cell_type": "markdown",
   "id": "b06140ee",
   "metadata": {},
   "source": [
    "Those are all unique combinations (without thinking about the order of them), there is no repetition. There is 2,3,4,5 - you wont see 2,4,3,5. There are 495 rows as calculated by the formula in `results` above."
   ]
  },
  {
   "cell_type": "code",
   "execution_count": 28,
   "id": "2d0ed40e",
   "metadata": {},
   "outputs": [
    {
     "name": "stdout",
     "output_type": "stream",
     "text": [
      "Total number of combinations: 495\n"
     ]
    }
   ],
   "source": [
    "# Count the number of combinations\n",
    "count = len(combinations)\n",
    "\n",
    "# Print the count\n",
    "print(f'Total number of combinations: {count}')"
   ]
  },
  {
   "cell_type": "markdown",
   "id": "39d07136",
   "metadata": {},
   "source": [
    "Now the experiment bit. Shuffle the 12 cups, select 4 at random. We can ust the [`random`](https://docs.python.org/3/library/random.html) module. It's a pseudo-random number generator.\n",
    "\n",
    "Use a set instead of a list"
   ]
  },
  {
   "cell_type": "code",
   "execution_count": 48,
   "id": "c92aa74a",
   "metadata": {},
   "outputs": [
    {
     "data": {
      "text/plain": [
       "{1, 6, 7, 11}"
      ]
     },
     "execution_count": 48,
     "metadata": {},
     "output_type": "execute_result"
    }
   ],
   "source": [
    "# Select 4 at random, and convert to a set \n",
    "milk_first = set(random.sample(cups, num_cups_milk_first))\n",
    "\n",
    "# Display the set\n",
    "milk_first"
   ]
  },
  {
   "cell_type": "markdown",
   "id": "f4fe9a5f",
   "metadata": {},
   "source": [
    "It looks like it sorts them automatically. We are using numbers as labels, the cups are not in any partifular order.\n",
    "\n",
    "So if we get {1, 6, 7, 11} it has zero overlap with {2, 5, 8, 10}. It has 100% overlap with {1, 6, 7, 11}."
   ]
  },
  {
   "cell_type": "markdown",
   "id": "52d70d30",
   "metadata": {},
   "source": [
    "## Problem 2: Normal Distribution\n",
    "\n",
    "Generate 100,000 samples of size 10 from the standard normal distribution. For each sample, compute the standard deviation with ddof=1 (sample SD) and with ddof=0 (population SD). Plot histograms of both sets of values on the same axes with transparency. Describe the differences you see. Explain how you expect these differences to change if the sample size is increased."
   ]
  },
  {
   "cell_type": "markdown",
   "id": "6548a099",
   "metadata": {},
   "source": [
    "How to generate random numbers following a Normal Distribution using the numpy.random.normal() method:\n",
    "\n",
    "- https://www.geeksforgeeks.org/numpy/normal-distribution-in-numpy/\n",
    "\n",
    "Offical nupmy documentation found [here](https://numpy.org/doc/stable/reference/random/generated/numpy.random.normal.html)"
   ]
  },
  {
   "cell_type": "code",
   "execution_count": null,
   "id": "48404261",
   "metadata": {},
   "outputs": [
    {
     "data": {
      "text/plain": [
       "-0.027916895410400426"
      ]
     },
     "execution_count": 22,
     "metadata": {},
     "output_type": "execute_result"
    }
   ],
   "source": [
    "# Generate samples from the standard normal distribution\n",
    "samples = np.random.normal(loc=0.0, scale=1.0, size=None)\n",
    "\n",
    "# Display\n",
    "samples"
   ]
  },
  {
   "cell_type": "markdown",
   "id": "4f925626",
   "metadata": {},
   "source": [
    "From the docs:\n",
    "\n",
    "```\n",
    "loc: Mean (“centre”) of the distribution.\n",
    "\n",
    "scale: Standard deviation (spread or “width”) of the distribution. Must be non-negative.\n",
    "\n",
    "size: Output shape. If the given shape is, e.g., (m, n, k), then m * n * k samples are drawn. If size is None (default), a single value is returned if loc and scale are both scalars. Otherwise, np.broadcast(loc, scale).size samples are drawn.\n",
    "```"
   ]
  },
  {
   "cell_type": "code",
   "execution_count": 23,
   "id": "88205464",
   "metadata": {},
   "outputs": [
    {
     "data": {
      "text/plain": [
       "(array([0., 0., 0., 0., 0., 0., 0., 0., 0., 0., 0., 0., 0., 0., 0., 0., 0.,\n",
       "        0., 0., 0., 0., 0., 0., 0., 0., 1., 0., 0., 0., 0., 0., 0., 0., 0.,\n",
       "        0., 0., 0., 0., 0., 0., 0., 0., 0., 0., 0., 0., 0., 0., 0., 0.]),\n",
       " array([-0.5279169, -0.5079169, -0.4879169, -0.4679169, -0.4479169,\n",
       "        -0.4279169, -0.4079169, -0.3879169, -0.3679169, -0.3479169,\n",
       "        -0.3279169, -0.3079169, -0.2879169, -0.2679169, -0.2479169,\n",
       "        -0.2279169, -0.2079169, -0.1879169, -0.1679169, -0.1479169,\n",
       "        -0.1279169, -0.1079169, -0.0879169, -0.0679169, -0.0479169,\n",
       "        -0.0279169, -0.0079169,  0.0120831,  0.0320831,  0.0520831,\n",
       "         0.0720831,  0.0920831,  0.1120831,  0.1320831,  0.1520831,\n",
       "         0.1720831,  0.1920831,  0.2120831,  0.2320831,  0.2520831,\n",
       "         0.2720831,  0.2920831,  0.3120831,  0.3320831,  0.3520831,\n",
       "         0.3720831,  0.3920831,  0.4120831,  0.4320831,  0.4520831,\n",
       "         0.4720831]),\n",
       " <BarContainer object of 50 artists>)"
      ]
     },
     "execution_count": 23,
     "metadata": {},
     "output_type": "execute_result"
    },
    {
     "data": {
      "image/png": "[encoded data removed]",
      "text/plain": [
       "<Figure size 640x480 with 1 Axes>"
      ]
     },
     "metadata": {},
     "output_type": "display_data"
    }
   ],
   "source": [
    "# Plot the distribution \n",
    "plt.hist(samples, bins=50, color='blue', alpha=0.7)"
   ]
  },
  {
   "cell_type": "markdown",
   "id": "572abf1e",
   "metadata": {},
   "source": [
    "One sample was generated because supplied the size (shape) as None. We can give it a number of samples to generate"
   ]
  },
  {
   "cell_type": "code",
   "execution_count": 31,
   "id": "3aac971a",
   "metadata": {},
   "outputs": [
    {
     "data": {
      "text/plain": [
       "array([-0.05750956,  0.51298727,  1.03540876, ..., -1.23862795,\n",
       "       -2.13251019, -0.84779387])"
      ]
     },
     "execution_count": 31,
     "metadata": {},
     "output_type": "execute_result"
    }
   ],
   "source": [
    "# Define number of samples to generate\n",
    "num_samples = 100000\n",
    "\n",
    "# Generate samples from the standard normal distribution\n",
    "samples = np.random.normal(loc=0.0, scale=1.0, size=(num_samples))\n",
    "\n",
    "# Display the samples (truncated)\n",
    "samples"
   ]
  },
  {
   "cell_type": "code",
   "execution_count": null,
   "id": "67df47de",
   "metadata": {},
   "outputs": [
    {
     "data": {
      "text/plain": [
       "(array([1.71844849e-04, 3.47126596e-03, 3.09893545e-02, 1.46239967e-01,\n",
       "        3.32599978e-01, 3.71242156e-01, 2.01344882e-01, 5.18054939e-02,\n",
       "        7.35495955e-03, 4.12427638e-04]),\n",
       " array([-4.49698439, -3.62410399, -2.7512236 , -1.8783432 , -1.00546281,\n",
       "        -0.13258241,  0.74029798,  1.61317838,  2.48605877,  3.35893917,\n",
       "         4.23181956]),\n",
       " <BarContainer object of 10 artists>)"
      ]
     },
     "execution_count": 34,
     "metadata": {},
     "output_type": "execute_result"
    },
    {
     "data": {
      "image/png": "[encoded data removed]",
      "text/plain": [
       "<Figure size 640x480 with 1 Axes>"
      ]
     },
     "metadata": {},
     "output_type": "display_data"
    }
   ],
   "source": [
    "# Set up plot\n",
    "fig, ax = plt.subplots()\n",
    "\n",
    "# Plot histogram\n",
    "ax.hist(samples, edgecolor='black', density=True) #, bins=np.linspace(-4, 4, 31))"
   ]
  },
  {
   "cell_type": "markdown",
   "id": "6a81ddbb",
   "metadata": {},
   "source": [
    "Now use a two-dimensialal array, 100,000 x 10 \n",
    "\n",
    "We will get 100,000 rows and 10 columns of samples"
   ]
  },
  {
   "cell_type": "code",
   "execution_count": 53,
   "id": "fbc9d415",
   "metadata": {},
   "outputs": [
    {
     "data": {
      "text/plain": [
       "(array([[4.16934106e-05, 1.41757596e-03, 2.19620040e-02, 1.30010478e-01,\n",
       "         3.30201389e-01, 3.57145755e-01, 1.65574957e-01, 3.30107579e-02,\n",
       "         2.87684533e-03, 9.38101739e-05],\n",
       "        [4.16934106e-05, 1.64688972e-03, 2.08571287e-02, 1.28592902e-01,\n",
       "         3.29774031e-01, 3.59032382e-01, 1.67815978e-01, 3.17286855e-02,\n",
       "         2.73091840e-03, 1.14656879e-04],\n",
       "        [3.12700580e-05, 1.45926937e-03, 2.20141208e-02, 1.29520580e-01,\n",
       "         3.29127783e-01, 3.59345083e-01, 1.65189293e-01, 3.29377944e-02,\n",
       "         2.67880163e-03, 3.12700580e-05],\n",
       "        [4.16934106e-05, 1.30291908e-03, 2.17222669e-02, 1.29395500e-01,\n",
       "         3.27876981e-01, 3.59584820e-01, 1.66721526e-01, 3.30003345e-02,\n",
       "         2.55372140e-03, 1.35503584e-04],\n",
       "        [4.16934106e-05, 1.56350290e-03, 2.29730692e-02, 1.28655442e-01,\n",
       "         3.28669156e-01, 3.58719682e-01, 1.66262898e-01, 3.24791669e-02,\n",
       "         2.86642198e-03, 1.04233527e-04],\n",
       "        [6.25401159e-05, 1.57392625e-03, 2.09509388e-02, 1.30489952e-01,\n",
       "         3.31295841e-01, 3.57948353e-01, 1.64678549e-01, 3.24687435e-02,\n",
       "         2.78303516e-03, 8.33868212e-05],\n",
       "        [4.16934106e-05, 1.57392625e-03, 2.17535370e-02, 1.31407207e-01,\n",
       "         3.28564922e-01, 3.57197872e-01, 1.65720884e-01, 3.33130351e-02,\n",
       "         2.63710822e-03, 1.25080232e-04],\n",
       "        [6.25401159e-05, 1.30291908e-03, 2.18056537e-02, 1.29145339e-01,\n",
       "         3.30326469e-01, 3.58813492e-01, 1.64490928e-01, 3.35736189e-02,\n",
       "         2.73091840e-03, 8.33868212e-05],\n",
       "        [5.21167633e-05, 1.65731307e-03, 2.08258586e-02, 1.30010478e-01,\n",
       "         3.28429419e-01, 3.57583536e-01, 1.67836824e-01, 3.31671081e-02,\n",
       "         2.67880163e-03, 9.38101739e-05],\n",
       "        [6.25401159e-05, 1.39672926e-03, 2.13574496e-02, 1.28728405e-01,\n",
       "         3.31274994e-01, 3.57708616e-01, 1.66523482e-01, 3.25104369e-02,\n",
       "         2.66837828e-03, 1.04233527e-04]]),\n",
       " array([-4.88895566, -3.92957145, -2.97018723, -2.01080302, -1.0514188 ,\n",
       "        -0.09203459,  0.86734963,  1.82673384,  2.78611805,  3.74550227,\n",
       "         4.70488648]),\n",
       " <a list of 10 BarContainer objects>)"
      ]
     },
     "execution_count": 53,
     "metadata": {},
     "output_type": "execute_result"
    },
    {
     "data": {
      "image/png": "[encoded data removed]",
      "text/plain": [
       "<Figure size 640x480 with 1 Axes>"
      ]
     },
     "metadata": {},
     "output_type": "display_data"
    }
   ],
   "source": [
    "# Define number of samples to generate, and \n",
    "num_samples = 100000\n",
    "sample_size = 10\n",
    "\n",
    "# Generate samples from the standard normal distribution\n",
    "samples = np.random.normal(loc=0.0, scale=1.0, size=(num_samples, sample_size))\n",
    "\n",
    "# Display the samples (truncated)\n",
    "#samples\n",
    "\n",
    "# Set up plot\n",
    "fig, ax = plt.subplots()\n",
    "\n",
    "# Plot histogram\n",
    "ax.hist(samples, edgecolor='black', density=True)\n"
   ]
  },
  {
   "cell_type": "markdown",
   "id": "053553e7",
   "metadata": {},
   "source": [
    "From the numpy docs, using delta degrees of freedomn (ddof)\n",
    "\n",
    "we can calculate 'population standard deviation' using ddof=0\n",
    "We can calculate the 'sample standard deviation' by setting ddof=1 \n",
    "\n",
    "- https://numpy.org/doc/stable/reference/generated/numpy.std.html\n",
    "\n",
    "```\n",
    "- https://mathmonks.com/standard-deviation/population-and-sample-standard-deviation\n",
    "\n",
    "The population standard deviation represents the entire population of an area under consideration, such as a national census or during a financial report. Thus, it includes all individuals in a population.\n",
    "\n",
    "The sample standard deviation estimates the standard deviation of a dataset, which is a subset of the population.\n",
    "```"
   ]
  },
  {
   "cell_type": "code",
   "execution_count": 55,
   "id": "aea9afe6",
   "metadata": {},
   "outputs": [
    {
     "data": {
      "text/plain": [
       "(array([2.000e+00, 2.000e+00, 1.600e+01, 2.700e+01, 8.400e+01, 1.400e+02,\n",
       "        2.710e+02, 4.630e+02, 7.700e+02, 1.081e+03, 1.587e+03, 2.171e+03,\n",
       "        2.878e+03, 3.475e+03, 4.195e+03, 4.888e+03, 5.620e+03, 5.926e+03,\n",
       "        6.308e+03, 6.744e+03, 6.355e+03, 6.291e+03, 6.034e+03, 5.676e+03,\n",
       "        5.139e+03, 4.541e+03, 3.828e+03, 3.257e+03, 2.869e+03, 2.292e+03,\n",
       "        1.802e+03, 1.411e+03, 1.074e+03, 8.180e+02, 5.900e+02, 4.460e+02,\n",
       "        3.160e+02, 1.900e+02, 1.490e+02, 9.500e+01, 6.600e+01, 4.000e+01,\n",
       "        3.100e+01, 1.600e+01, 1.300e+01, 7.000e+00, 3.000e+00, 0.000e+00,\n",
       "        1.000e+00, 2.000e+00]),\n",
       " array([0.17376074, 0.21223255, 0.25070436, 0.28917616, 0.32764797,\n",
       "        0.36611978, 0.40459159, 0.4430634 , 0.48153521, 0.52000702,\n",
       "        0.55847882, 0.59695063, 0.63542244, 0.67389425, 0.71236606,\n",
       "        0.75083787, 0.78930967, 0.82778148, 0.86625329, 0.9047251 ,\n",
       "        0.94319691, 0.98166872, 1.02014052, 1.05861233, 1.09708414,\n",
       "        1.13555595, 1.17402776, 1.21249957, 1.25097137, 1.28944318,\n",
       "        1.32791499, 1.3663868 , 1.40485861, 1.44333042, 1.48180223,\n",
       "        1.52027403, 1.55874584, 1.59721765, 1.63568946, 1.67416127,\n",
       "        1.71263308, 1.75110488, 1.78957669, 1.8280485 , 1.86652031,\n",
       "        1.90499212, 1.94346393, 1.98193573, 2.02040754, 2.05887935,\n",
       "        2.09735116]),\n",
       " <BarContainer object of 50 artists>)"
      ]
     },
     "execution_count": 55,
     "metadata": {},
     "output_type": "execute_result"
    },
    {
     "data": {
      "image/png": "[encoded data removed]",
      "text/plain": [
       "<Figure size 640x480 with 1 Axes>"
      ]
     },
     "metadata": {},
     "output_type": "display_data"
    }
   ],
   "source": [
    "# Calculate sample standard deviations (ddof=1)\n",
    "sample_sd = np.std(samples, axis=1, ddof=1)\n",
    "\n",
    "# Set up plot\n",
    "fig, ax = plt.subplots()\n",
    "\n",
    "# Plot histogram\n",
    "ax.hist(sample_sd, bins=50, alpha=0.5, label='Sample SD (ddof=1)', color='blue')"
   ]
  },
  {
   "cell_type": "markdown",
   "id": "ed300997",
   "metadata": {},
   "source": [
    "## Problem 3: t-Tests\n",
    "\n",
    "A type II error occurs when a test fails to reject the null hypothesis even though it is false. For each mean difference `d = 0, 0.1, 0.2, … , 1.0`, repeat the following simulation 1,000 times:\n",
    "\n",
    "1. Draw two samples of size 100, one from the standard normal distribution and one from the normal distribution with mean `d` and standard deviation 1.\n",
    "2. Run an independent samples t-test on the two samples, rejecting the null hypothesis if the p-value is less than 0.05.\n",
    "Record the proportion of times the null hypothesis is not rejected.\n",
    "3. Plot this proportion against `d`, and explain how the type II error rate changes as the difference in means increases."
   ]
  },
  {
   "cell_type": "markdown",
   "id": "9ba2044c",
   "metadata": {},
   "source": [
    "## Problem 4: ANOVA\n",
    "Generate three independent samples, each of size 30, from normal distributions with means 0, 0.5, and 1, each with standard deviation 1.\n",
    "\n",
    "1. Perform a one-way ANOVA to test whether all three means are equal.\n",
    "2. Perform three independent two-sample t-tests: samples 1 vs 2, 1 vs 3, and 2 vs 3.\n",
    "3. Compare the conclusions.\n",
    "\n",
    "Write a short note on why ANOVA is preferred over running several t-tests."
   ]
  },
  {
   "cell_type": "markdown",
   "id": "3edb7157",
   "metadata": {},
   "source": [
    "***\n",
    "\n",
    "END"
   ]
  }
 ],
 "metadata": {
  "kernelspec": {
   "display_name": "Python 3",
   "language": "python",
   "name": "python3"
  },
  "language_info": {
   "codemirror_mode": {
    "name": "ipython",
    "version": 3
   },
   "file_extension": ".py",
   "mimetype": "text/x-python",
   "name": "python",
   "nbconvert_exporter": "python",
   "pygments_lexer": "ipython3",
   "version": "3.8.10"
  }
 },
 "nbformat": 4,
 "nbformat_minor": 5
}
