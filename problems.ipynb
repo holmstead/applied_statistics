{
 "cells": [
  {
   "cell_type": "markdown",
   "id": "7cf355b0",
   "metadata": {},
   "source": [
    "# Applied Statistics"
   ]
  },
  {
   "cell_type": "code",
   "execution_count": 3,
   "id": "1a08cbb5",
   "metadata": {},
   "outputs": [],
   "source": [
    "# Import required libraries\n",
    "\n",
    "# https://numpy.org/doc/stable/\n",
    "import numpy as np\n",
    "\n",
    "# https://matplotlib.org/\n",
    "import matplotlib.pyplot as plt\n",
    "plt.style.use('ggplot')  # Use ggplot style\n",
    "\n",
    "import math"
   ]
  },
  {
   "cell_type": "markdown",
   "id": "2f79e20a",
   "metadata": {},
   "source": [
    "## Problem 1: Extending the Lady Tasting Tea\n",
    "\n",
    "Let's extend the Lady Tasting Tea experiment as follows. The original experiment has 8 cups: 4 tea-first and 4 milk-first. Suppose we prepare 12 cups: 8 tea-first and 4 milk-first. A participant claims they can tell which was poured first.\n",
    "\n",
    "Simulate this experiment using `numpy` by randomly shuffling the cups many times and calculating the probability of the participant correctly identifying all cups by chance. Compare your result with the original 8-cup experiment.\n",
    "\n",
    "In your notebook, explain your simulation process clearly, report and interpret the estimated probability, and discuss whether, based on this probability, you would consider extending or relaxing the p-value threshold compared to the original design."
   ]
  },
  {
   "cell_type": "markdown",
   "id": "ea41e71c",
   "metadata": {},
   "source": [
    "[Lady Tasting tea experiment - Numberphile](https://www.youtube.com/watch?v=8ERFV7rV0vg)\n",
    "\n",
    "[Lady Tasting tea experiment - Rob Sinn](https://www.youtube.com/watch?v=kR1qeXDwCSc) \n",
    "\n",
    "[Ronald Fisher](https://en.wikipedia.org/wiki/Ronald_Fisher) came up with the [null hypothesisis?](https://www.geeksforgeeks.org/maths/null-hypothesis/) \n",
    "\n",
    "Statistical analysis of A/B tests.\n",
    "\n",
    "We can shuffle using numpy `shuffle` function ([see official documentation](https://numpy.org/doc/stable/reference/random/generated/numpy.random.shuffle.html))."
   ]
  },
  {
   "cell_type": "code",
   "execution_count": 2,
   "id": "d3cc6725",
   "metadata": {},
   "outputs": [
    {
     "data": {
      "text/plain": [
       "array([ 4,  5,  9,  0,  8, 10,  1, 11,  3,  7,  2,  6])"
      ]
     },
     "execution_count": 2,
     "metadata": {},
     "output_type": "execute_result"
    }
   ],
   "source": [
    "# Create a numpy array using values from 1 to 12\n",
    "array = np.arange(12)\n",
    "\n",
    "# Shuffle the array\n",
    "np.random.shuffle(array)\n",
    "\n",
    "# Print the array\n",
    "array"
   ]
  },
  {
   "cell_type": "code",
   "execution_count": 3,
   "id": "594c083e",
   "metadata": {},
   "outputs": [
    {
     "data": {
      "text/plain": [
       "<BarContainer object of 12 artists>"
      ]
     },
     "execution_count": 3,
     "metadata": {},
     "output_type": "execute_result"
    },
    {
     "data": {
      "image/png": "[encoded data removed]",
      "text/plain": [
       "<Figure size 640x480 with 1 Axes>"
      ]
     },
     "metadata": {},
     "output_type": "display_data"
    }
   ],
   "source": [
    "# Create a bar plot of the array\n",
    "plt.bar(range(len(array)), array)"
   ]
  },
  {
   "cell_type": "code",
   "execution_count": 11,
   "id": "517325ed",
   "metadata": {},
   "outputs": [
    {
     "data": {
      "text/plain": [
       "<matplotlib.collections.PathCollection at 0x7f7a1ccdf760>"
      ]
     },
     "execution_count": 11,
     "metadata": {},
     "output_type": "execute_result"
    },
    {
     "data": {
      "image/png": "[encoded data removed]",
      "text/plain": [
       "<Figure size 640x480 with 1 Axes>"
      ]
     },
     "metadata": {},
     "output_type": "display_data"
    }
   ],
   "source": [
    "# Create numpy arrays\n",
    "X = np.arange(12)\n",
    "y = np.arange(12)\n",
    "\n",
    "# Shuffle the arrays\n",
    "np.random.shuffle(X)\n",
    "np.random.shuffle(y)\n",
    "\n",
    "# Create scatter plot \n",
    "plt.scatter(X, y)"
   ]
  },
  {
   "cell_type": "code",
   "execution_count": 13,
   "id": "2b2144d7",
   "metadata": {},
   "outputs": [
    {
     "data": {
      "text/plain": [
       "<matplotlib.collections.PathCollection at 0x7f7a1cc81f40>"
      ]
     },
     "execution_count": 13,
     "metadata": {},
     "output_type": "execute_result"
    },
    {
     "data": {
      "image/png": "[encoded data removed]",
      "text/plain": [
       "<Figure size 640x480 with 1 Axes>"
      ]
     },
     "metadata": {},
     "output_type": "display_data"
    }
   ],
   "source": [
    "# Create random arrays of values from 1 to 12\n",
    "X = np.random.choice(np.arange(1, 13), size=12, replace=True)\n",
    "y = np.random.choice(np.arange(1, 13), size=12, replace=True)\n",
    "\n",
    "# Create scatter plot \n",
    "plt.scatter(X, y)"
   ]
  },
  {
   "cell_type": "markdown",
   "id": "8ba9cd7b",
   "metadata": {},
   "source": [
    "[Generator shuffle](https://numpy.org/doc/stable/reference/random/generated/numpy.random.Generator.shuffle.html#numpy.random.Generator.shuffle)"
   ]
  },
  {
   "cell_type": "markdown",
   "id": "c82e653b",
   "metadata": {},
   "source": [
    "p-value described [here](https://www.geeksforgeeks.org/machine-learning/p-value/)\n",
    "\n",
    "`In general, a small p-value indicates that the observed data is unlikely to have occurred by random chance alone, which leads to the rejection of the null hypothesis.`"
   ]
  },
  {
   "cell_type": "code",
   "execution_count": 5,
   "id": "7880052a",
   "metadata": {},
   "outputs": [],
   "source": [
    "# Define the number of cups\n",
    "number_of_cups = 12\n",
    "\n",
    "# Define the number of cups with milk first\n",
    "number_of_cups_milk_first = 4\n",
    "\n",
    "# Define the number of cups with tea first\n",
    "number_of_cups_tea_first = 8"
   ]
  },
  {
   "cell_type": "markdown",
   "id": "4d345cfb",
   "metadata": {},
   "source": [
    "If there are 12 cups of tea, how many different ways are there of selecting 4 cups from them? \"binomial coefficient? use `math.comb()`\n",
    "\n",
    "\n",
    "\n",
    "We need to make an array or something so numpy can shuffle it."
   ]
  },
  {
   "cell_type": "code",
   "execution_count": null,
   "id": "477c334a",
   "metadata": {},
   "outputs": [
    {
     "data": {
      "text/plain": [
       "['milk first',\n",
       " 'milk first',\n",
       " 'milk first',\n",
       " 'milk first',\n",
       " 'tea first',\n",
       " 'tea first',\n",
       " 'tea first',\n",
       " 'tea first',\n",
       " 'tea first',\n",
       " 'tea first',\n",
       " 'tea first',\n",
       " 'tea first']"
      ]
     },
     "execution_count": 6,
     "metadata": {},
     "output_type": "execute_result"
    }
   ],
   "source": [
    "# Create and array\n",
    "cups = ['milk first'] * number_of_cups_milk_first + ['tea first'] * number_of_cups_tea_first\n",
    "\n",
    "# print the array\n",
    "cups"
   ]
  },
  {
   "cell_type": "code",
   "execution_count": null,
   "id": "166273fc",
   "metadata": {},
   "outputs": [
    {
     "data": {
      "text/plain": [
       "['milk first',\n",
       " 'milk first',\n",
       " 'tea first',\n",
       " 'tea first',\n",
       " 'milk first',\n",
       " 'tea first',\n",
       " 'tea first',\n",
       " 'tea first',\n",
       " 'tea first',\n",
       " 'milk first',\n",
       " 'tea first',\n",
       " 'tea first']"
      ]
     },
     "execution_count": 9,
     "metadata": {},
     "output_type": "execute_result"
    }
   ],
   "source": [
    "# Shuffle the arrays\n",
    "np.random.shuffle(cups)\n",
    "\n",
    "# Print the array\n",
    "cups"
   ]
  },
  {
   "cell_type": "markdown",
   "id": "97d50e45",
   "metadata": {},
   "source": [
    "https://lisds.github.io/textbook/wild-pandas/fishers_tea.html"
   ]
  },
  {
   "cell_type": "markdown",
   "id": "080d4f74",
   "metadata": {},
   "source": [
    "https://www.geeksforgeeks.org/maths/n-choose-k-formula/\n",
    "\n",
    "`Combination is described as the process of choosing one, two, or a few elements from a given sequence, independent of the order in which they appear.`\n",
    "\n",
    "So Order doesnt matter\n",
    "\n",
    "But you cant pick the same cup more than once in this experiment.\n"
   ]
  },
  {
   "cell_type": "markdown",
   "id": "838ebcf3",
   "metadata": {},
   "source": [
    "C(n,k)= n!/(k!(n−k)!)​\n",
    " \n",
    "- n! is the factorial of n.\n",
    "- k! is the factorial of k.\n",
    "\n",
    "\n",
    "Putting that into Python code:"
   ]
  },
  {
   "cell_type": "code",
   "execution_count": null,
   "id": "cb9791e8",
   "metadata": {},
   "outputs": [
    {
     "data": {
      "text/plain": [
       "495"
      ]
     },
     "execution_count": 7,
     "metadata": {},
     "output_type": "execute_result"
    }
   ],
   "source": [
    "# Pick some xxample values\n",
    "n = 12  # Total number of elements\n",
    "k = 4   # Number of elements to choose\n",
    "\n",
    "# Calculate the number of ways of selecting k objects from n without replacement and without order\n",
    "result = math.factorial(n) // (math.factorial(k) * math.factorial(n - k))\n",
    "\n",
    "# Print result\n",
    "result"
   ]
  },
  {
   "cell_type": "code",
   "execution_count": 6,
   "id": "9d2201ef",
   "metadata": {},
   "outputs": [
    {
     "name": "stdout",
     "output_type": "stream",
     "text": [
      "The number of ways to choose 4 elements from 12 is: 495\n"
     ]
    }
   ],
   "source": [
    "# Calculate combinations using math.comb\n",
    "result = math.comb(n, k)\n",
    "print(f\"The number of ways to choose {k} elements from {n} is: {result}\")"
   ]
  },
  {
   "cell_type": "markdown",
   "id": "52d70d30",
   "metadata": {},
   "source": [
    "## Problem 2: Normal Distribution\n",
    "\n",
    "Generate 100,000 samples of size 10 from the standard normal distribution. For each sample, compute the standard deviation with ddof=1 (sample SD) and with ddof=0 (population SD). Plot histograms of both sets of values on the same axes with transparency. Describe the differences you see. Explain how you expect these differences to change if the sample size is increased."
   ]
  },
  {
   "cell_type": "markdown",
   "id": "ed300997",
   "metadata": {},
   "source": [
    "## Problem 3: t-Tests\n",
    "\n",
    "A type II error occurs when a test fails to reject the null hypothesis even though it is false. For each mean difference `d = 0, 0.1, 0.2, … , 1.0`, repeat the following simulation 1,000 times:\n",
    "\n",
    "1. Draw two samples of size 100, one from the standard normal distribution and one from the normal distribution with mean `d` and standard deviation 1.\n",
    "2. Run an independent samples t-test on the two samples, rejecting the null hypothesis if the p-value is less than 0.05.\n",
    "Record the proportion of times the null hypothesis is not rejected.\n",
    "3. Plot this proportion against `d`, and explain how the type II error rate changes as the difference in means increases."
   ]
  },
  {
   "cell_type": "markdown",
   "id": "9ba2044c",
   "metadata": {},
   "source": [
    "## Problem 4: ANOVA\n",
    "Generate three independent samples, each of size 30, from normal distributions with means 0, 0.5, and 1, each with standard deviation 1.\n",
    "\n",
    "1. Perform a one-way ANOVA to test whether all three means are equal.\n",
    "2. Perform three independent two-sample t-tests: samples 1 vs 2, 1 vs 3, and 2 vs 3.\n",
    "3. Compare the conclusions.\n",
    "\n",
    "Write a short note on why ANOVA is preferred over running several t-tests."
   ]
  },
  {
   "cell_type": "markdown",
   "id": "3edb7157",
   "metadata": {},
   "source": [
    "***\n",
    "\n",
    "END"
   ]
  }
 ],
 "metadata": {
  "kernelspec": {
   "display_name": "Python 3",
   "language": "python",
   "name": "python3"
  },
  "language_info": {
   "codemirror_mode": {
    "name": "ipython",
    "version": 3
   },
   "file_extension": ".py",
   "mimetype": "text/x-python",
   "name": "python",
   "nbconvert_exporter": "python",
   "pygments_lexer": "ipython3",
   "version": "3.8.10"
  }
 },
 "nbformat": 4,
 "nbformat_minor": 5
}
